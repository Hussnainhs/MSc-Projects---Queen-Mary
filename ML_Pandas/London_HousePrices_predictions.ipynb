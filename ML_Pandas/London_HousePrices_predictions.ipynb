{
 "cells": [
  {
   "cell_type": "code",
   "execution_count": 56,
   "metadata": {
    "colab": {
     "base_uri": "https://localhost:8080/",
     "height": 69
    },
    "colab_type": "code",
    "id": "-pb_gTYcTQjy",
    "outputId": "7fc3200c-bdfb-45f9-8101-e08a4ec7c188"
   },
   "outputs": [],
   "source": [
    "import pandas as pd # data processing, CSV file I/O (e.g. pd.read_csv)\n",
    "import matplotlib.pyplot as plt\n",
    "import seaborn as sns\n",
    "import numpy as np\n",
    "import math\n",
    "import datetime as datetime\n",
    "from sklearn.model_selection import train_test_split\n",
    "from sklearn import linear_model\n",
    "from sklearn import ensemble\n",
    "from sklearn.metrics import mean_squared_error\n",
    "import keras\n",
    "from keras.models import Sequential\n",
    "from keras.layers import Dense\n",
    "from keras.wrappers.scikit_learn import KerasRegressor\n",
    "from sklearn.model_selection import cross_val_score\n",
    "from sklearn.model_selection import KFold\n",
    "from sklearn.preprocessing import StandardScaler\n",
    "from sklearn.pipeline import Pipeline\n",
    "from keras.callbacks import ModelCheckpoint\n",
    "from sklearn.neighbors import KNeighborsRegressor"
   ]
  },
  {
   "cell_type": "code",
   "execution_count": 93,
   "metadata": {
    "colab": {},
    "colab_type": "code",
    "id": "A3Mm3S7aTQj2"
   },
   "outputs": [],
   "source": [
    "df = pd.read_csv('dataset/pp2020.csv') "
   ]
  },
  {
   "cell_type": "code",
   "execution_count": 94,
   "metadata": {
    "colab": {
     "base_uri": "https://localhost:8080/",
     "height": 214
    },
    "colab_type": "code",
    "id": "vclhDW96TQj5",
    "outputId": "9c0657f6-bbf7-4f36-c821-cad828cc399b"
   },
   "outputs": [
    {
     "name": "stdout",
     "output_type": "stream",
     "text": [
      "Columns = Index(['{5BBE9CB3-6332-4EB0-9CD3-8737CEA4A65A}', '42000', '1995-12-21 00:00',\n",
      "       'NE4 9DN', 'S', 'N', 'F', '8', 'Unnamed: 8', 'MATFEN PLACE', 'FENHAM',\n",
      "       'NEWCASTLE UPON TYNE', 'NEWCASTLE UPON TYNE.1', 'TYNE AND WEAR', 'A',\n",
      "       'A.1'],\n",
      "      dtype='object')\n",
      "Shape = (25231355, 16)\n"
     ]
    },
    {
     "data": {
      "text/html": [
       "<div>\n",
       "<style scoped>\n",
       "    .dataframe tbody tr th:only-of-type {\n",
       "        vertical-align: middle;\n",
       "    }\n",
       "\n",
       "    .dataframe tbody tr th {\n",
       "        vertical-align: top;\n",
       "    }\n",
       "\n",
       "    .dataframe thead th {\n",
       "        text-align: right;\n",
       "    }\n",
       "</style>\n",
       "<table border=\"1\" class=\"dataframe\">\n",
       "  <thead>\n",
       "    <tr style=\"text-align: right;\">\n",
       "      <th></th>\n",
       "      <th>{5BBE9CB3-6332-4EB0-9CD3-8737CEA4A65A}</th>\n",
       "      <th>42000</th>\n",
       "      <th>1995-12-21 00:00</th>\n",
       "      <th>NE4 9DN</th>\n",
       "      <th>S</th>\n",
       "      <th>N</th>\n",
       "      <th>F</th>\n",
       "      <th>8</th>\n",
       "      <th>Unnamed: 8</th>\n",
       "      <th>MATFEN PLACE</th>\n",
       "      <th>FENHAM</th>\n",
       "      <th>NEWCASTLE UPON TYNE</th>\n",
       "      <th>NEWCASTLE UPON TYNE.1</th>\n",
       "      <th>TYNE AND WEAR</th>\n",
       "      <th>A</th>\n",
       "      <th>A.1</th>\n",
       "    </tr>\n",
       "  </thead>\n",
       "  <tbody>\n",
       "    <tr>\n",
       "      <th>0</th>\n",
       "      <td>{20E2441A-0F16-49AB-97D4-8737E62A5D93}</td>\n",
       "      <td>95000</td>\n",
       "      <td>1995-03-03 00:00</td>\n",
       "      <td>RM16 4UR</td>\n",
       "      <td>S</td>\n",
       "      <td>N</td>\n",
       "      <td>F</td>\n",
       "      <td>30</td>\n",
       "      <td>NaN</td>\n",
       "      <td>HEATH ROAD</td>\n",
       "      <td>GRAYS</td>\n",
       "      <td>GRAYS</td>\n",
       "      <td>THURROCK</td>\n",
       "      <td>THURROCK</td>\n",
       "      <td>A</td>\n",
       "      <td>A</td>\n",
       "    </tr>\n",
       "    <tr>\n",
       "      <th>1</th>\n",
       "      <td>{D893EE64-4464-44B5-B01B-8E62403ED83C}</td>\n",
       "      <td>74950</td>\n",
       "      <td>1995-10-03 00:00</td>\n",
       "      <td>CW10 9ES</td>\n",
       "      <td>D</td>\n",
       "      <td>Y</td>\n",
       "      <td>F</td>\n",
       "      <td>15</td>\n",
       "      <td>NaN</td>\n",
       "      <td>SHROPSHIRE CLOSE</td>\n",
       "      <td>MIDDLEWICH</td>\n",
       "      <td>MIDDLEWICH</td>\n",
       "      <td>CONGLETON</td>\n",
       "      <td>CHESHIRE</td>\n",
       "      <td>A</td>\n",
       "      <td>A</td>\n",
       "    </tr>\n",
       "  </tbody>\n",
       "</table>\n",
       "</div>"
      ],
      "text/plain": [
       "   {5BBE9CB3-6332-4EB0-9CD3-8737CEA4A65A}  42000  1995-12-21 00:00   NE4 9DN  \\\n",
       "0  {20E2441A-0F16-49AB-97D4-8737E62A5D93}  95000  1995-03-03 00:00  RM16 4UR   \n",
       "1  {D893EE64-4464-44B5-B01B-8E62403ED83C}  74950  1995-10-03 00:00  CW10 9ES   \n",
       "\n",
       "   S  N  F   8 Unnamed: 8      MATFEN PLACE      FENHAM NEWCASTLE UPON TYNE  \\\n",
       "0  S  N  F  30        NaN        HEATH ROAD       GRAYS               GRAYS   \n",
       "1  D  Y  F  15        NaN  SHROPSHIRE CLOSE  MIDDLEWICH          MIDDLEWICH   \n",
       "\n",
       "  NEWCASTLE UPON TYNE.1 TYNE AND WEAR  A A.1  \n",
       "0              THURROCK      THURROCK  A   A  \n",
       "1             CONGLETON      CHESHIRE  A   A  "
      ]
     },
     "execution_count": 94,
     "metadata": {},
     "output_type": "execute_result"
    }
   ],
   "source": [
    "#Print columns name and dataset shape \n",
    "print(\"Columns = {}\".format(df.columns))\n",
    "print(\"Shape = {}\".format(df.shape))\n",
    "df.head(2)"
   ]
  },
  {
   "cell_type": "code",
   "execution_count": 95,
   "metadata": {
    "colab": {
     "base_uri": "https://localhost:8080/",
     "height": 33
    },
    "colab_type": "code",
    "id": "VkE9nBnmTQj9",
    "outputId": "9c79524c-ab9c-4e6b-f27e-56456182796f"
   },
   "outputs": [
    {
     "data": {
      "text/plain": [
       "'The following cells contains code to preprocess the dataset in order to make it clear\\nand easy to access and work on for the purpose of our project'"
      ]
     },
     "execution_count": 95,
     "metadata": {},
     "output_type": "execute_result"
    }
   ],
   "source": [
    "#Dataset Preprocessing\n",
    "'''The following cells contains code to preprocess the dataset in order to make it clear\n",
    "and easy to access and work on for the purpose of our project'''"
   ]
  },
  {
   "cell_type": "code",
   "execution_count": 97,
   "metadata": {
    "colab": {
     "base_uri": "https://localhost:8080/",
     "height": 110
    },
    "colab_type": "code",
    "id": "i2-wWxjJTQkA",
    "outputId": "2abeb2b1-3f25-4cfe-8616-f3f77e2fab98"
   },
   "outputs": [
    {
     "data": {
      "text/html": [
       "<div>\n",
       "<style scoped>\n",
       "    .dataframe tbody tr th:only-of-type {\n",
       "        vertical-align: middle;\n",
       "    }\n",
       "\n",
       "    .dataframe tbody tr th {\n",
       "        vertical-align: top;\n",
       "    }\n",
       "\n",
       "    .dataframe thead th {\n",
       "        text-align: right;\n",
       "    }\n",
       "</style>\n",
       "<table border=\"1\" class=\"dataframe\">\n",
       "  <thead>\n",
       "    <tr style=\"text-align: right;\">\n",
       "      <th></th>\n",
       "      <th>ID</th>\n",
       "      <th>Price</th>\n",
       "      <th>Date_Sold</th>\n",
       "      <th>Post_Code</th>\n",
       "      <th>Property_Type</th>\n",
       "      <th>Old/New</th>\n",
       "      <th>Duration</th>\n",
       "      <th>PAON</th>\n",
       "      <th>SAON</th>\n",
       "      <th>Street</th>\n",
       "      <th>Locality</th>\n",
       "      <th>Town/City</th>\n",
       "      <th>District</th>\n",
       "      <th>County</th>\n",
       "      <th>PPD</th>\n",
       "      <th>Record_Status</th>\n",
       "    </tr>\n",
       "  </thead>\n",
       "  <tbody>\n",
       "    <tr>\n",
       "      <th>0</th>\n",
       "      <td>{20E2441A-0F16-49AB-97D4-8737E62A5D93}</td>\n",
       "      <td>95000</td>\n",
       "      <td>1995-03-03 00:00</td>\n",
       "      <td>RM16 4UR</td>\n",
       "      <td>S</td>\n",
       "      <td>N</td>\n",
       "      <td>F</td>\n",
       "      <td>30</td>\n",
       "      <td>NaN</td>\n",
       "      <td>HEATH ROAD</td>\n",
       "      <td>GRAYS</td>\n",
       "      <td>GRAYS</td>\n",
       "      <td>THURROCK</td>\n",
       "      <td>THURROCK</td>\n",
       "      <td>A</td>\n",
       "      <td>A</td>\n",
       "    </tr>\n",
       "    <tr>\n",
       "      <th>1</th>\n",
       "      <td>{D893EE64-4464-44B5-B01B-8E62403ED83C}</td>\n",
       "      <td>74950</td>\n",
       "      <td>1995-10-03 00:00</td>\n",
       "      <td>CW10 9ES</td>\n",
       "      <td>D</td>\n",
       "      <td>Y</td>\n",
       "      <td>F</td>\n",
       "      <td>15</td>\n",
       "      <td>NaN</td>\n",
       "      <td>SHROPSHIRE CLOSE</td>\n",
       "      <td>MIDDLEWICH</td>\n",
       "      <td>MIDDLEWICH</td>\n",
       "      <td>CONGLETON</td>\n",
       "      <td>CHESHIRE</td>\n",
       "      <td>A</td>\n",
       "      <td>A</td>\n",
       "    </tr>\n",
       "    <tr>\n",
       "      <th>2</th>\n",
       "      <td>{F9F753A8-E56A-4ECC-9927-8E626A471A92}</td>\n",
       "      <td>43500</td>\n",
       "      <td>1995-11-14 00:00</td>\n",
       "      <td>TS23 3LA</td>\n",
       "      <td>S</td>\n",
       "      <td>N</td>\n",
       "      <td>F</td>\n",
       "      <td>19</td>\n",
       "      <td>NaN</td>\n",
       "      <td>SLEDMERE CLOSE</td>\n",
       "      <td>BILLINGHAM</td>\n",
       "      <td>BILLINGHAM</td>\n",
       "      <td>STOCKTON-ON-TEES</td>\n",
       "      <td>STOCKTON-ON-TEES</td>\n",
       "      <td>A</td>\n",
       "      <td>A</td>\n",
       "    </tr>\n",
       "    <tr>\n",
       "      <th>3</th>\n",
       "      <td>{E166398A-A19E-470E-BB5A-83B4C254CF6D}</td>\n",
       "      <td>63000</td>\n",
       "      <td>1995-09-08 00:00</td>\n",
       "      <td>CA25 5QH</td>\n",
       "      <td>S</td>\n",
       "      <td>N</td>\n",
       "      <td>F</td>\n",
       "      <td>8</td>\n",
       "      <td>NaN</td>\n",
       "      <td>CROSSINGS CLOSE</td>\n",
       "      <td>CLEATOR MOOR</td>\n",
       "      <td>CLEATOR MOOR</td>\n",
       "      <td>COPELAND</td>\n",
       "      <td>CUMBRIA</td>\n",
       "      <td>A</td>\n",
       "      <td>A</td>\n",
       "    </tr>\n",
       "    <tr>\n",
       "      <th>4</th>\n",
       "      <td>{A9A3C463-3CA0-4D71-8CF9-83B4D0536EEA}</td>\n",
       "      <td>29995</td>\n",
       "      <td>1995-05-12 00:00</td>\n",
       "      <td>PE14 8JF</td>\n",
       "      <td>S</td>\n",
       "      <td>N</td>\n",
       "      <td>F</td>\n",
       "      <td>114</td>\n",
       "      <td>NaN</td>\n",
       "      <td>SMEETH ROAD</td>\n",
       "      <td>ST JOHNS FEN END</td>\n",
       "      <td>WISBECH</td>\n",
       "      <td>KING'S LYNN AND WEST NORFOLK</td>\n",
       "      <td>NORFOLK</td>\n",
       "      <td>A</td>\n",
       "      <td>A</td>\n",
       "    </tr>\n",
       "    <tr>\n",
       "      <th>5</th>\n",
       "      <td>{8DE57D57-DDC3-4993-8C33-83B4E5BAA543}</td>\n",
       "      <td>105000</td>\n",
       "      <td>1995-11-30 00:00</td>\n",
       "      <td>S6 6TG</td>\n",
       "      <td>D</td>\n",
       "      <td>N</td>\n",
       "      <td>F</td>\n",
       "      <td>70</td>\n",
       "      <td>NaN</td>\n",
       "      <td>WOODSTOCK ROAD</td>\n",
       "      <td>LOXLEY</td>\n",
       "      <td>SHEFFIELD</td>\n",
       "      <td>SHEFFIELD</td>\n",
       "      <td>SOUTH YORKSHIRE</td>\n",
       "      <td>A</td>\n",
       "      <td>A</td>\n",
       "    </tr>\n",
       "    <tr>\n",
       "      <th>6</th>\n",
       "      <td>{568DE11A-432B-4DA3-B9A4-83B4EC4BD127}</td>\n",
       "      <td>121250</td>\n",
       "      <td>1995-05-19 00:00</td>\n",
       "      <td>N12 8LR</td>\n",
       "      <td>F</td>\n",
       "      <td>N</td>\n",
       "      <td>L</td>\n",
       "      <td>CAVENDISH HOUSE</td>\n",
       "      <td>FLAT 20</td>\n",
       "      <td>WOODSIDE GRANGE ROAD</td>\n",
       "      <td>LONDON</td>\n",
       "      <td>LONDON</td>\n",
       "      <td>BARNET</td>\n",
       "      <td>GREATER LONDON</td>\n",
       "      <td>A</td>\n",
       "      <td>A</td>\n",
       "    </tr>\n",
       "    <tr>\n",
       "      <th>7</th>\n",
       "      <td>{F7A5CAE4-BDD3-4911-897C-8AC393B97281}</td>\n",
       "      <td>43000</td>\n",
       "      <td>1995-12-01 00:00</td>\n",
       "      <td>LA6 3DQ</td>\n",
       "      <td>T</td>\n",
       "      <td>N</td>\n",
       "      <td>F</td>\n",
       "      <td>90</td>\n",
       "      <td>NaN</td>\n",
       "      <td>NEW VILLAGE</td>\n",
       "      <td>INGLETON</td>\n",
       "      <td>CARNFORTH</td>\n",
       "      <td>CRAVEN</td>\n",
       "      <td>NORTH YORKSHIRE</td>\n",
       "      <td>A</td>\n",
       "      <td>A</td>\n",
       "    </tr>\n",
       "    <tr>\n",
       "      <th>8</th>\n",
       "      <td>{DED4E551-6B96-40FB-98E9-8AC3B9071356}</td>\n",
       "      <td>128500</td>\n",
       "      <td>1995-03-01 00:00</td>\n",
       "      <td>SW18 5DH</td>\n",
       "      <td>T</td>\n",
       "      <td>N</td>\n",
       "      <td>F</td>\n",
       "      <td>149</td>\n",
       "      <td>NaN</td>\n",
       "      <td>TRENTHAM STREET</td>\n",
       "      <td>LONDON</td>\n",
       "      <td>LONDON</td>\n",
       "      <td>WANDSWORTH</td>\n",
       "      <td>GREATER LONDON</td>\n",
       "      <td>A</td>\n",
       "      <td>A</td>\n",
       "    </tr>\n",
       "    <tr>\n",
       "      <th>9</th>\n",
       "      <td>{84CE6A8C-3D0F-47F8-8442-8E62807A726D}</td>\n",
       "      <td>33000</td>\n",
       "      <td>1995-11-03 00:00</td>\n",
       "      <td>CV4 9LS</td>\n",
       "      <td>S</td>\n",
       "      <td>N</td>\n",
       "      <td>F</td>\n",
       "      <td>55</td>\n",
       "      <td>NaN</td>\n",
       "      <td>ALDRICH AVENUE</td>\n",
       "      <td>TILE HILL</td>\n",
       "      <td>COVENTRY</td>\n",
       "      <td>COVENTRY</td>\n",
       "      <td>WEST MIDLANDS</td>\n",
       "      <td>A</td>\n",
       "      <td>A</td>\n",
       "    </tr>\n",
       "    <tr>\n",
       "      <th>10</th>\n",
       "      <td>{F5F9C3FD-8684-4D4E-B5B8-8E629F77474C}</td>\n",
       "      <td>77500</td>\n",
       "      <td>1995-05-19 00:00</td>\n",
       "      <td>BA22 8LR</td>\n",
       "      <td>D</td>\n",
       "      <td>N</td>\n",
       "      <td>F</td>\n",
       "      <td>WESTLEIGH</td>\n",
       "      <td>NaN</td>\n",
       "      <td>YEOVIL ROAD</td>\n",
       "      <td>ILCHESTER</td>\n",
       "      <td>YEOVIL</td>\n",
       "      <td>SOUTH SOMERSET</td>\n",
       "      <td>SOMERSET</td>\n",
       "      <td>A</td>\n",
       "      <td>A</td>\n",
       "    </tr>\n",
       "    <tr>\n",
       "      <th>11</th>\n",
       "      <td>{D263B73F-7C3A-4062-A432-83B51327C389}</td>\n",
       "      <td>59995</td>\n",
       "      <td>1995-07-21 00:00</td>\n",
       "      <td>SL1 9AR</td>\n",
       "      <td>T</td>\n",
       "      <td>N</td>\n",
       "      <td>F</td>\n",
       "      <td>6</td>\n",
       "      <td>NaN</td>\n",
       "      <td>ADAM CLOSE</td>\n",
       "      <td>SLOUGH</td>\n",
       "      <td>SLOUGH</td>\n",
       "      <td>SLOUGH</td>\n",
       "      <td>SLOUGH</td>\n",
       "      <td>A</td>\n",
       "      <td>A</td>\n",
       "    </tr>\n",
       "    <tr>\n",
       "      <th>12</th>\n",
       "      <td>{C5FF7611-A5A8-449D-A78A-83B513500DD7}</td>\n",
       "      <td>115950</td>\n",
       "      <td>1995-03-24 00:00</td>\n",
       "      <td>RG42 7NZ</td>\n",
       "      <td>D</td>\n",
       "      <td>Y</td>\n",
       "      <td>F</td>\n",
       "      <td>4</td>\n",
       "      <td>NaN</td>\n",
       "      <td>GARDENERS ROAD</td>\n",
       "      <td>WINKFIELD ROW</td>\n",
       "      <td>BRACKNELL</td>\n",
       "      <td>BRACKNELL FOREST</td>\n",
       "      <td>BRACKNELL FOREST</td>\n",
       "      <td>A</td>\n",
       "      <td>A</td>\n",
       "    </tr>\n",
       "    <tr>\n",
       "      <th>13</th>\n",
       "      <td>{70D9ADE8-D76A-47CD-874D-83B5151C19ED}</td>\n",
       "      <td>26350</td>\n",
       "      <td>1995-11-24 00:00</td>\n",
       "      <td>DN4 0QL</td>\n",
       "      <td>T</td>\n",
       "      <td>N</td>\n",
       "      <td>F</td>\n",
       "      <td>102</td>\n",
       "      <td>NaN</td>\n",
       "      <td>ST JOHNS ROAD</td>\n",
       "      <td>DONCASTER</td>\n",
       "      <td>DONCASTER</td>\n",
       "      <td>DONCASTER</td>\n",
       "      <td>SOUTH YORKSHIRE</td>\n",
       "      <td>A</td>\n",
       "      <td>A</td>\n",
       "    </tr>\n",
       "    <tr>\n",
       "      <th>14</th>\n",
       "      <td>{79B19868-18CF-4AFD-9660-83B535502A0C}</td>\n",
       "      <td>27500</td>\n",
       "      <td>1995-05-19 00:00</td>\n",
       "      <td>CV5 6LD</td>\n",
       "      <td>T</td>\n",
       "      <td>N</td>\n",
       "      <td>F</td>\n",
       "      <td>201</td>\n",
       "      <td>NaN</td>\n",
       "      <td>BROOMFIELD ROAD</td>\n",
       "      <td>EARLSDON</td>\n",
       "      <td>COVENTRY</td>\n",
       "      <td>COVENTRY</td>\n",
       "      <td>WEST MIDLANDS</td>\n",
       "      <td>A</td>\n",
       "      <td>A</td>\n",
       "    </tr>\n",
       "    <tr>\n",
       "      <th>15</th>\n",
       "      <td>{8A5F7A96-0865-46E3-B3D9-91F47C16313A}</td>\n",
       "      <td>157500</td>\n",
       "      <td>1995-03-17 00:00</td>\n",
       "      <td>N19 5EX</td>\n",
       "      <td>S</td>\n",
       "      <td>N</td>\n",
       "      <td>F</td>\n",
       "      <td>104</td>\n",
       "      <td>NaN</td>\n",
       "      <td>LADY MARGARET ROAD</td>\n",
       "      <td>LONDON</td>\n",
       "      <td>LONDON</td>\n",
       "      <td>ISLINGTON</td>\n",
       "      <td>GREATER LONDON</td>\n",
       "      <td>A</td>\n",
       "      <td>A</td>\n",
       "    </tr>\n",
       "    <tr>\n",
       "      <th>16</th>\n",
       "      <td>{60CF8CE4-7269-4F41-9062-91F4932AC4A2}</td>\n",
       "      <td>110995</td>\n",
       "      <td>1995-11-09 00:00</td>\n",
       "      <td>SW8 2PH</td>\n",
       "      <td>F</td>\n",
       "      <td>Y</td>\n",
       "      <td>L</td>\n",
       "      <td>10</td>\n",
       "      <td>41</td>\n",
       "      <td>PRIORY GROVE</td>\n",
       "      <td>LONDON</td>\n",
       "      <td>LONDON</td>\n",
       "      <td>LAMBETH</td>\n",
       "      <td>GREATER LONDON</td>\n",
       "      <td>A</td>\n",
       "      <td>A</td>\n",
       "    </tr>\n",
       "    <tr>\n",
       "      <th>17</th>\n",
       "      <td>{C03038E8-1504-4249-BDF9-91F4A24C8E35}</td>\n",
       "      <td>34000</td>\n",
       "      <td>1995-08-18 00:00</td>\n",
       "      <td>FY5 4HW</td>\n",
       "      <td>F</td>\n",
       "      <td>N</td>\n",
       "      <td>L</td>\n",
       "      <td>KINGSTON MEWS</td>\n",
       "      <td>FLAT 8</td>\n",
       "      <td>CRABTREE ROAD</td>\n",
       "      <td>THORNTON-CLEVELEYS</td>\n",
       "      <td>THORNTON-CLEVELEYS</td>\n",
       "      <td>WYRE</td>\n",
       "      <td>LANCASHIRE</td>\n",
       "      <td>A</td>\n",
       "      <td>A</td>\n",
       "    </tr>\n",
       "    <tr>\n",
       "      <th>18</th>\n",
       "      <td>{95F22B84-A5E2-456C-9340-8737EB37D141}</td>\n",
       "      <td>39500</td>\n",
       "      <td>1995-02-10 00:00</td>\n",
       "      <td>LS28 5PU</td>\n",
       "      <td>S</td>\n",
       "      <td>N</td>\n",
       "      <td>F</td>\n",
       "      <td>26</td>\n",
       "      <td>NaN</td>\n",
       "      <td>HOLLIN PARK ROAD</td>\n",
       "      <td>CALVERLEY</td>\n",
       "      <td>PUDSEY</td>\n",
       "      <td>LEEDS</td>\n",
       "      <td>WEST YORKSHIRE</td>\n",
       "      <td>A</td>\n",
       "      <td>A</td>\n",
       "    </tr>\n",
       "    <tr>\n",
       "      <th>19</th>\n",
       "      <td>{3769C849-73ED-4BE8-A22D-87381AF1C293}</td>\n",
       "      <td>48500</td>\n",
       "      <td>1995-08-01 00:00</td>\n",
       "      <td>IP11 7SG</td>\n",
       "      <td>F</td>\n",
       "      <td>N</td>\n",
       "      <td>L</td>\n",
       "      <td>7</td>\n",
       "      <td>NaN</td>\n",
       "      <td>ST JOHNS COURT</td>\n",
       "      <td>FELIXSTOWE</td>\n",
       "      <td>FELIXSTOWE</td>\n",
       "      <td>SUFFOLK COASTAL</td>\n",
       "      <td>SUFFOLK</td>\n",
       "      <td>A</td>\n",
       "      <td>A</td>\n",
       "    </tr>\n",
       "  </tbody>\n",
       "</table>\n",
       "</div>"
      ],
      "text/plain": [
       "                                        ID   Price         Date_Sold  \\\n",
       "0   {20E2441A-0F16-49AB-97D4-8737E62A5D93}   95000  1995-03-03 00:00   \n",
       "1   {D893EE64-4464-44B5-B01B-8E62403ED83C}   74950  1995-10-03 00:00   \n",
       "2   {F9F753A8-E56A-4ECC-9927-8E626A471A92}   43500  1995-11-14 00:00   \n",
       "3   {E166398A-A19E-470E-BB5A-83B4C254CF6D}   63000  1995-09-08 00:00   \n",
       "4   {A9A3C463-3CA0-4D71-8CF9-83B4D0536EEA}   29995  1995-05-12 00:00   \n",
       "5   {8DE57D57-DDC3-4993-8C33-83B4E5BAA543}  105000  1995-11-30 00:00   \n",
       "6   {568DE11A-432B-4DA3-B9A4-83B4EC4BD127}  121250  1995-05-19 00:00   \n",
       "7   {F7A5CAE4-BDD3-4911-897C-8AC393B97281}   43000  1995-12-01 00:00   \n",
       "8   {DED4E551-6B96-40FB-98E9-8AC3B9071356}  128500  1995-03-01 00:00   \n",
       "9   {84CE6A8C-3D0F-47F8-8442-8E62807A726D}   33000  1995-11-03 00:00   \n",
       "10  {F5F9C3FD-8684-4D4E-B5B8-8E629F77474C}   77500  1995-05-19 00:00   \n",
       "11  {D263B73F-7C3A-4062-A432-83B51327C389}   59995  1995-07-21 00:00   \n",
       "12  {C5FF7611-A5A8-449D-A78A-83B513500DD7}  115950  1995-03-24 00:00   \n",
       "13  {70D9ADE8-D76A-47CD-874D-83B5151C19ED}   26350  1995-11-24 00:00   \n",
       "14  {79B19868-18CF-4AFD-9660-83B535502A0C}   27500  1995-05-19 00:00   \n",
       "15  {8A5F7A96-0865-46E3-B3D9-91F47C16313A}  157500  1995-03-17 00:00   \n",
       "16  {60CF8CE4-7269-4F41-9062-91F4932AC4A2}  110995  1995-11-09 00:00   \n",
       "17  {C03038E8-1504-4249-BDF9-91F4A24C8E35}   34000  1995-08-18 00:00   \n",
       "18  {95F22B84-A5E2-456C-9340-8737EB37D141}   39500  1995-02-10 00:00   \n",
       "19  {3769C849-73ED-4BE8-A22D-87381AF1C293}   48500  1995-08-01 00:00   \n",
       "\n",
       "   Post_Code Property_Type Old/New Duration             PAON     SAON  \\\n",
       "0   RM16 4UR             S       N        F               30      NaN   \n",
       "1   CW10 9ES             D       Y        F               15      NaN   \n",
       "2   TS23 3LA             S       N        F               19      NaN   \n",
       "3   CA25 5QH             S       N        F                8      NaN   \n",
       "4   PE14 8JF             S       N        F              114      NaN   \n",
       "5     S6 6TG             D       N        F               70      NaN   \n",
       "6    N12 8LR             F       N        L  CAVENDISH HOUSE  FLAT 20   \n",
       "7    LA6 3DQ             T       N        F               90      NaN   \n",
       "8   SW18 5DH             T       N        F              149      NaN   \n",
       "9    CV4 9LS             S       N        F               55      NaN   \n",
       "10  BA22 8LR             D       N        F        WESTLEIGH      NaN   \n",
       "11   SL1 9AR             T       N        F                6      NaN   \n",
       "12  RG42 7NZ             D       Y        F                4      NaN   \n",
       "13   DN4 0QL             T       N        F              102      NaN   \n",
       "14   CV5 6LD             T       N        F              201      NaN   \n",
       "15   N19 5EX             S       N        F              104      NaN   \n",
       "16   SW8 2PH             F       Y        L               10       41   \n",
       "17   FY5 4HW             F       N        L    KINGSTON MEWS   FLAT 8   \n",
       "18  LS28 5PU             S       N        F               26      NaN   \n",
       "19  IP11 7SG             F       N        L                7      NaN   \n",
       "\n",
       "                  Street            Locality           Town/City  \\\n",
       "0             HEATH ROAD               GRAYS               GRAYS   \n",
       "1       SHROPSHIRE CLOSE          MIDDLEWICH          MIDDLEWICH   \n",
       "2         SLEDMERE CLOSE          BILLINGHAM          BILLINGHAM   \n",
       "3        CROSSINGS CLOSE        CLEATOR MOOR        CLEATOR MOOR   \n",
       "4            SMEETH ROAD    ST JOHNS FEN END             WISBECH   \n",
       "5         WOODSTOCK ROAD              LOXLEY           SHEFFIELD   \n",
       "6   WOODSIDE GRANGE ROAD              LONDON              LONDON   \n",
       "7            NEW VILLAGE            INGLETON           CARNFORTH   \n",
       "8        TRENTHAM STREET              LONDON              LONDON   \n",
       "9         ALDRICH AVENUE           TILE HILL            COVENTRY   \n",
       "10           YEOVIL ROAD           ILCHESTER              YEOVIL   \n",
       "11            ADAM CLOSE              SLOUGH              SLOUGH   \n",
       "12        GARDENERS ROAD       WINKFIELD ROW           BRACKNELL   \n",
       "13         ST JOHNS ROAD           DONCASTER           DONCASTER   \n",
       "14       BROOMFIELD ROAD            EARLSDON            COVENTRY   \n",
       "15    LADY MARGARET ROAD              LONDON              LONDON   \n",
       "16          PRIORY GROVE              LONDON              LONDON   \n",
       "17         CRABTREE ROAD  THORNTON-CLEVELEYS  THORNTON-CLEVELEYS   \n",
       "18      HOLLIN PARK ROAD           CALVERLEY              PUDSEY   \n",
       "19        ST JOHNS COURT          FELIXSTOWE          FELIXSTOWE   \n",
       "\n",
       "                        District            County PPD Record_Status  \n",
       "0                       THURROCK          THURROCK   A             A  \n",
       "1                      CONGLETON          CHESHIRE   A             A  \n",
       "2               STOCKTON-ON-TEES  STOCKTON-ON-TEES   A             A  \n",
       "3                       COPELAND           CUMBRIA   A             A  \n",
       "4   KING'S LYNN AND WEST NORFOLK           NORFOLK   A             A  \n",
       "5                      SHEFFIELD   SOUTH YORKSHIRE   A             A  \n",
       "6                         BARNET    GREATER LONDON   A             A  \n",
       "7                         CRAVEN   NORTH YORKSHIRE   A             A  \n",
       "8                     WANDSWORTH    GREATER LONDON   A             A  \n",
       "9                       COVENTRY     WEST MIDLANDS   A             A  \n",
       "10                SOUTH SOMERSET          SOMERSET   A             A  \n",
       "11                        SLOUGH            SLOUGH   A             A  \n",
       "12              BRACKNELL FOREST  BRACKNELL FOREST   A             A  \n",
       "13                     DONCASTER   SOUTH YORKSHIRE   A             A  \n",
       "14                      COVENTRY     WEST MIDLANDS   A             A  \n",
       "15                     ISLINGTON    GREATER LONDON   A             A  \n",
       "16                       LAMBETH    GREATER LONDON   A             A  \n",
       "17                          WYRE        LANCASHIRE   A             A  \n",
       "18                         LEEDS    WEST YORKSHIRE   A             A  \n",
       "19               SUFFOLK COASTAL           SUFFOLK   A             A  "
      ]
     },
     "execution_count": 97,
     "metadata": {},
     "output_type": "execute_result"
    }
   ],
   "source": [
    "#Name all the columns\n",
    "df.columns = ['ID', 'Price', 'Date_Sold', 'Post_Code', 'Property_Type', 'Old/New', 'Duration', 'PAON', 'SAON','Street','Locality','Town/City','District','County', 'PPD','Record_Status']\n",
    "df.head(20)"
   ]
  },
  {
   "cell_type": "code",
   "execution_count": 64,
   "metadata": {
    "colab": {
     "base_uri": "https://localhost:8080/",
     "height": 312
    },
    "colab_type": "code",
    "id": "gI4nVx4BTQkC",
    "outputId": "2fe5a8c6-6b96-44e3-ded2-1b8e92a178a3"
   },
   "outputs": [
    {
     "data": {
      "text/plain": [
       "ID                       object\n",
       "Price                     int64\n",
       "Date_Sold        datetime64[ns]\n",
       "Post_Code                object\n",
       "Property_Type            object\n",
       "Old/New                  object\n",
       "Duration                 object\n",
       "PAON                     object\n",
       "SAON                     object\n",
       "Street                   object\n",
       "Locality                 object\n",
       "Town/City                object\n",
       "District                 object\n",
       "County                   object\n",
       "PPD                      object\n",
       "Record_Status            object\n",
       "dtype: object"
      ]
     },
     "execution_count": 64,
     "metadata": {},
     "output_type": "execute_result"
    }
   ],
   "source": [
    "#Change data types\n",
    "df['Price'] = pd.to_numeric(df['Price']) #convert price into type float\n",
    "df['Date_Sold'] = pd.to_datetime(df['Date_Sold'], format='%Y-%m-%d') #convert to type datetime\n",
    "df.dtypes"
   ]
  },
  {
   "cell_type": "code",
   "execution_count": 65,
   "metadata": {
    "colab": {
     "base_uri": "https://localhost:8080/",
     "height": 34
    },
    "colab_type": "code",
    "id": "S7kpDJyMTQkF",
    "outputId": "c820a9fb-5893-4a49-d70e-9b855198c8a6"
   },
   "outputs": [
    {
     "data": {
      "text/plain": [
       "(1958445, 16)"
      ]
     },
     "execution_count": 65,
     "metadata": {},
     "output_type": "execute_result"
    }
   ],
   "source": [
    "#Extract only properties in London\n",
    "london_houses = df.loc[df['Town/City']=='LONDON']\n",
    "london_houses.shape"
   ]
  },
  {
   "cell_type": "code",
   "execution_count": 66,
   "metadata": {
    "colab": {
     "base_uri": "https://localhost:8080/",
     "height": 386
    },
    "colab_type": "code",
    "id": "FyFyhg3xTQkI",
    "outputId": "b77495c3-6c2c-4e14-e06e-c770f4ed21cd"
   },
   "outputs": [
    {
     "data": {
      "text/html": [
       "<div>\n",
       "<style scoped>\n",
       "    .dataframe tbody tr th:only-of-type {\n",
       "        vertical-align: middle;\n",
       "    }\n",
       "\n",
       "    .dataframe tbody tr th {\n",
       "        vertical-align: top;\n",
       "    }\n",
       "\n",
       "    .dataframe thead th {\n",
       "        text-align: right;\n",
       "    }\n",
       "</style>\n",
       "<table border=\"1\" class=\"dataframe\">\n",
       "  <thead>\n",
       "    <tr style=\"text-align: right;\">\n",
       "      <th></th>\n",
       "      <th>Number of Null Values</th>\n",
       "    </tr>\n",
       "    <tr>\n",
       "      <th>Feature</th>\n",
       "      <th></th>\n",
       "    </tr>\n",
       "  </thead>\n",
       "  <tbody>\n",
       "    <tr>\n",
       "      <th>SAON</th>\n",
       "      <td>1136100</td>\n",
       "    </tr>\n",
       "    <tr>\n",
       "      <th>Locality</th>\n",
       "      <td>994574</td>\n",
       "    </tr>\n",
       "    <tr>\n",
       "      <th>Post_Code</th>\n",
       "      <td>4374</td>\n",
       "    </tr>\n",
       "    <tr>\n",
       "      <th>Street</th>\n",
       "      <td>1850</td>\n",
       "    </tr>\n",
       "    <tr>\n",
       "      <th>PAON</th>\n",
       "      <td>21</td>\n",
       "    </tr>\n",
       "    <tr>\n",
       "      <th>Record_Status</th>\n",
       "      <td>0</td>\n",
       "    </tr>\n",
       "    <tr>\n",
       "      <th>PPD</th>\n",
       "      <td>0</td>\n",
       "    </tr>\n",
       "    <tr>\n",
       "      <th>County</th>\n",
       "      <td>0</td>\n",
       "    </tr>\n",
       "    <tr>\n",
       "      <th>District</th>\n",
       "      <td>0</td>\n",
       "    </tr>\n",
       "    <tr>\n",
       "      <th>Town/City</th>\n",
       "      <td>0</td>\n",
       "    </tr>\n",
       "  </tbody>\n",
       "</table>\n",
       "</div>"
      ],
      "text/plain": [
       "               Number of Null Values\n",
       "Feature                             \n",
       "SAON                         1136100\n",
       "Locality                      994574\n",
       "Post_Code                       4374\n",
       "Street                          1850\n",
       "PAON                              21\n",
       "Record_Status                      0\n",
       "PPD                                0\n",
       "County                             0\n",
       "District                           0\n",
       "Town/City                          0"
      ]
     },
     "execution_count": 66,
     "metadata": {},
     "output_type": "execute_result"
    }
   ],
   "source": [
    "#Check for missing values in the dataset\n",
    "null_values = pd.DataFrame(london_houses.isnull().sum().sort_values(ascending=False)[:10])\n",
    "null_values.index.name = 'Feature'\n",
    "null_values.columns = ['Number of Null Values']\n",
    "null_values"
   ]
  },
  {
   "cell_type": "code",
   "execution_count": 67,
   "metadata": {
    "colab": {},
    "colab_type": "code",
    "id": "FVFXZRSCTQkL"
   },
   "outputs": [],
   "source": [
    "#Drop Columns \n",
    "london_houses = london_houses.drop(columns=['SAON', 'Locality','Post_Code','Street','PAON', 'Record_Status','Town/City', 'County'])\n",
    "#Drop Rows with Property_Type == 'Others'\n",
    "london_houses = london_houses[london_houses.Property_Type != 'O']\n",
    "#Drop Rows with Duration == 'Undefined'\n",
    "london_houses = london_houses[london_houses.Duration != 'U']"
   ]
  },
  {
   "cell_type": "code",
   "execution_count": 68,
   "metadata": {
    "colab": {
     "base_uri": "https://localhost:8080/",
     "height": 50
    },
    "colab_type": "code",
    "id": "lUn0EkfrTQkR",
    "outputId": "686b8509-d315-4857-d06c-b98fa90ca8b3"
   },
   "outputs": [
    {
     "name": "stdout",
     "output_type": "stream",
     "text": [
      "Shape before removing duplicates: (1932621, 8)\n",
      "Shape after removing duplicates: (1932621, 8)\n"
     ]
    }
   ],
   "source": [
    "#Remove Duplicate Rows (if they exists)\n",
    "print('Shape before removing duplicates: {}'.format(london_houses.shape))\n",
    "london_houses.drop_duplicates(keep=False,inplace=True)\n",
    "print('Shape after removing duplicates: {}'.format(london_houses.shape))"
   ]
  },
  {
   "cell_type": "code",
   "execution_count": 69,
   "metadata": {
    "colab": {
     "base_uri": "https://localhost:8080/",
     "height": 110
    },
    "colab_type": "code",
    "id": "GIlIH-VgTQkU",
    "outputId": "f2df0b9d-d605-4f33-ff1e-025fa5029456"
   },
   "outputs": [
    {
     "data": {
      "text/html": [
       "<div>\n",
       "<style scoped>\n",
       "    .dataframe tbody tr th:only-of-type {\n",
       "        vertical-align: middle;\n",
       "    }\n",
       "\n",
       "    .dataframe tbody tr th {\n",
       "        vertical-align: top;\n",
       "    }\n",
       "\n",
       "    .dataframe thead th {\n",
       "        text-align: right;\n",
       "    }\n",
       "</style>\n",
       "<table border=\"1\" class=\"dataframe\">\n",
       "  <thead>\n",
       "    <tr style=\"text-align: right;\">\n",
       "      <th></th>\n",
       "      <th>ID</th>\n",
       "      <th>Price</th>\n",
       "      <th>Date_Sold</th>\n",
       "      <th>Property_Type</th>\n",
       "      <th>Old/New</th>\n",
       "      <th>Duration</th>\n",
       "      <th>District</th>\n",
       "      <th>PPD</th>\n",
       "      <th>Year</th>\n",
       "      <th>Month</th>\n",
       "    </tr>\n",
       "  </thead>\n",
       "  <tbody>\n",
       "    <tr>\n",
       "      <th>6</th>\n",
       "      <td>{568DE11A-432B-4DA3-B9A4-83B4EC4BD127}</td>\n",
       "      <td>121250</td>\n",
       "      <td>1995-05-19</td>\n",
       "      <td>F</td>\n",
       "      <td>N</td>\n",
       "      <td>L</td>\n",
       "      <td>BARNET</td>\n",
       "      <td>A</td>\n",
       "      <td>1995</td>\n",
       "      <td>5</td>\n",
       "    </tr>\n",
       "    <tr>\n",
       "      <th>8</th>\n",
       "      <td>{DED4E551-6B96-40FB-98E9-8AC3B9071356}</td>\n",
       "      <td>128500</td>\n",
       "      <td>1995-03-01</td>\n",
       "      <td>T</td>\n",
       "      <td>N</td>\n",
       "      <td>F</td>\n",
       "      <td>WANDSWORTH</td>\n",
       "      <td>A</td>\n",
       "      <td>1995</td>\n",
       "      <td>3</td>\n",
       "    </tr>\n",
       "  </tbody>\n",
       "</table>\n",
       "</div>"
      ],
      "text/plain": [
       "                                       ID   Price  Date_Sold Property_Type  \\\n",
       "6  {568DE11A-432B-4DA3-B9A4-83B4EC4BD127}  121250 1995-05-19             F   \n",
       "8  {DED4E551-6B96-40FB-98E9-8AC3B9071356}  128500 1995-03-01             T   \n",
       "\n",
       "  Old/New Duration    District PPD  Year  Month  \n",
       "6       N        L      BARNET   A  1995      5  \n",
       "8       N        F  WANDSWORTH   A  1995      3  "
      ]
     },
     "execution_count": 69,
     "metadata": {},
     "output_type": "execute_result"
    }
   ],
   "source": [
    "#Add month and year as column\n",
    "london_houses['Year'],london_houses['Month'] = london_houses.Date_Sold.dt.year, london_houses.Date_Sold.dt.month\n",
    "london_houses.head(2)"
   ]
  },
  {
   "cell_type": "code",
   "execution_count": 70,
   "metadata": {
    "colab": {
     "base_uri": "https://localhost:8080/",
     "height": 1000
    },
    "colab_type": "code",
    "id": "lP5AoIqfTQkb",
    "outputId": "e27548d3-6432-4392-8102-7eb46cd1434f",
    "scrolled": true
   },
   "outputs": [
    {
     "name": "stdout",
     "output_type": "stream",
     "text": [
      "--------------------------------------------------\n",
      "Statistics Information of the feature : ID\n",
      "count                                    1932621\n",
      "unique                                   1932621\n",
      "top       {3E01A932-68A9-48F7-AB0B-6C83F30E28EE}\n",
      "freq                                           1\n",
      "Name: ID, dtype: object\n",
      "--------------------------------------------------\n",
      "\n",
      "--------------------------------------------------\n",
      "Statistics Information of the feature : Price\n",
      "count     1932621.00\n",
      "mean       381456.49\n",
      "std        610167.01\n",
      "min             1.00\n",
      "25%        148000.00\n",
      "50%        249995.00\n",
      "75%        430000.00\n",
      "max     160000000.00\n",
      "Name: Price, dtype: float64\n",
      "--------------------------------------------------\n",
      "\n",
      "--------------------------------------------------\n",
      "Statistics Information of the feature : Date_Sold\n",
      "count                 1932621\n",
      "unique                   8591\n",
      "top       2016-03-31 00:00:00\n",
      "freq                     3034\n",
      "first     1995-01-01 00:00:00\n",
      "last      2020-03-19 00:00:00\n",
      "Name: Date_Sold, dtype: object\n",
      "--------------------------------------------------\n",
      "\n",
      "--------------------------------------------------\n",
      "Statistics Information of the feature : Property_Type\n",
      "count     1932621\n",
      "unique          4\n",
      "top             F\n",
      "freq      1220205\n",
      "Name: Property_Type, dtype: object\n",
      "--------------------------------------------------\n",
      "\n",
      "--------------------------------------------------\n",
      "Statistics Information of the feature : Old/New\n",
      "count     1932621\n",
      "unique          2\n",
      "top             N\n",
      "freq      1723463\n",
      "Name: Old/New, dtype: object\n",
      "--------------------------------------------------\n",
      "\n",
      "--------------------------------------------------\n",
      "Statistics Information of the feature : Duration\n",
      "count     1932621\n",
      "unique          2\n",
      "top             L\n",
      "freq      1241358\n",
      "Name: Duration, dtype: object\n",
      "--------------------------------------------------\n",
      "\n",
      "--------------------------------------------------\n",
      "Statistics Information of the feature : District\n",
      "count        1932621\n",
      "unique            38\n",
      "top       WANDSWORTH\n",
      "freq          169645\n",
      "Name: District, dtype: object\n",
      "--------------------------------------------------\n",
      "\n",
      "--------------------------------------------------\n",
      "Statistics Information of the feature : PPD\n",
      "count     1932621\n",
      "unique          2\n",
      "top             A\n",
      "freq      1878596\n",
      "Name: PPD, dtype: object\n",
      "--------------------------------------------------\n",
      "\n",
      "--------------------------------------------------\n",
      "Statistics Information of the feature : Year\n",
      "count   1932621.00\n",
      "mean       2006.07\n",
      "std           7.06\n",
      "min        1995.00\n",
      "25%        2000.00\n",
      "50%        2005.00\n",
      "75%        2012.00\n",
      "max        2020.00\n",
      "Name: Year, dtype: float64\n",
      "--------------------------------------------------\n",
      "\n",
      "--------------------------------------------------\n",
      "Statistics Information of the feature : Month\n",
      "count   1932621.00\n",
      "mean          6.69\n",
      "std           3.35\n",
      "min           1.00\n",
      "25%           4.00\n",
      "50%           7.00\n",
      "75%          10.00\n",
      "max          12.00\n",
      "Name: Month, dtype: float64\n",
      "--------------------------------------------------\n",
      "\n"
     ]
    }
   ],
   "source": [
    "pd.set_option('display.float_format', lambda x: '%.2f' % x)\n",
    "#Basic Statistics for each feature in the Dataset\n",
    "for i in london_houses.columns:\n",
    "    print(\"--------------------------------------------------\")\n",
    "    print(\"Statistics Information of the feature : {0}\".format(i))\n",
    "    print(london_houses[i].describe())\n",
    "    print(\"--------------------------------------------------\\n\")"
   ]
  },
  {
   "cell_type": "code",
   "execution_count": 71,
   "metadata": {
    "colab": {
     "base_uri": "https://localhost:8080/",
     "height": 312
    },
    "colab_type": "code",
    "id": "JuciFH1oTQkd",
    "outputId": "6487b9ba-69ec-47fc-dc5d-0425c1d75902"
   },
   "outputs": [
    {
     "data": {
      "text/plain": [
       "Text(0.5, 1.0, 'Price Histogram')"
      ]
     },
     "execution_count": 71,
     "metadata": {},
     "output_type": "execute_result"
    },
    {
     "data": {
      "image/png": "[encoded data removed]",
      "text/plain": [
       "<Figure size 432x288 with 1 Axes>"
      ]
     },
     "metadata": {
      "needs_background": "light"
     },
     "output_type": "display_data"
    }
   ],
   "source": [
    "#Plot Distribution of the feature 'Price'. \n",
    "#High number of bins is required due to the high nuymber of extreme values\n",
    "london_houses['Price'].hist(range=[0,4000000], bins = 100)\n",
    "plt.title('Price Histogram')"
   ]
  },
  {
   "cell_type": "code",
   "execution_count": 72,
   "metadata": {
    "colab": {
     "base_uri": "https://localhost:8080/",
     "height": 52
    },
    "colab_type": "code",
    "id": "l-ZUiUY8TQkf",
    "outputId": "29b48f68-d5d9-466d-8439-9596ec09a96a"
   },
   "outputs": [
    {
     "name": "stdout",
     "output_type": "stream",
     "text": [
      "Skew of feature 'Price': 29.163078181907338\n",
      "Skew of log Price:  0.06183889091930049\n"
     ]
    }
   ],
   "source": [
    "print(\"Skew of feature 'Price':\", london_houses['Price'].skew())\n",
    "log_price = np.log(london_houses['Price'])\n",
    "print(\"Skew of log Price: \", (log_price.skew()))"
   ]
  },
  {
   "cell_type": "code",
   "execution_count": 73,
   "metadata": {
    "colab": {
     "base_uri": "https://localhost:8080/",
     "height": 318
    },
    "colab_type": "code",
    "id": "_59upze_TQkn",
    "outputId": "e269bb6f-c037-44e9-98e7-c072f6887e7a"
   },
   "outputs": [
    {
     "data": {
      "text/plain": [
       "<matplotlib.axes._subplots.AxesSubplot at 0x3a989cb80>"
      ]
     },
     "execution_count": 73,
     "metadata": {},
     "output_type": "execute_result"
    },
    {
     "data": {
      "image/png": "[encoded data removed]",
      "text/plain": [
       "<Figure size 432x288 with 1 Axes>"
      ]
     },
     "metadata": {
      "needs_background": "light"
     },
     "output_type": "display_data"
    }
   ],
   "source": [
    "#Box plot grouped by Old/New\n",
    "london_houses.boxplot(column='Price', by = 'Old/New')"
   ]
  },
  {
   "cell_type": "code",
   "execution_count": 74,
   "metadata": {
    "colab": {
     "base_uri": "https://localhost:8080/",
     "height": 320
    },
    "colab_type": "code",
    "id": "RF18Sg3fTQkp",
    "outputId": "7ee3142b-2ac3-4c43-9181-80edb8362f1c"
   },
   "outputs": [
    {
     "data": {
      "text/plain": [
       "<matplotlib.axes._subplots.AxesSubplot at 0x3b8444910>"
      ]
     },
     "execution_count": 74,
     "metadata": {},
     "output_type": "execute_result"
    },
    {
     "data": {
      "image/png": "[encoded data removed]",
      "text/plain": [
       "<Figure size 432x288 with 1 Axes>"
      ]
     },
     "metadata": {
      "needs_background": "light"
     },
     "output_type": "display_data"
    }
   ],
   "source": [
    "#Box plot grouped by Property_Type\n",
    "london_houses = london_houses[london_houses.Property_Type != 'O']\n",
    "london_houses.boxplot(column = 'Price', by = 'Property_Type')"
   ]
  },
  {
   "cell_type": "code",
   "execution_count": 75,
   "metadata": {
    "colab": {
     "base_uri": "https://localhost:8080/",
     "height": 693
    },
    "colab_type": "code",
    "id": "YQehCI13TQkr",
    "outputId": "f45b9062-01ae-44fb-d511-df8a1069841a"
   },
   "outputs": [
    {
     "data": {
      "text/plain": [
       "(0.0, 200000000.0)"
      ]
     },
     "execution_count": 75,
     "metadata": {},
     "output_type": "execute_result"
    },
    {
     "data": {
      "image/png": "[encoded data removed]",
      "text/plain": [
       "<Figure size 1152x576 with 1 Axes>"
      ]
     },
     "metadata": {
      "needs_background": "light"
     },
     "output_type": "display_data"
    }
   ],
   "source": [
    "#Box plot grouped by District\n",
    "axes = london_houses.boxplot(column = 'Price', by ='District', figsize = (16,8))\n",
    "plt.xticks(rotation=90)\n",
    "axes.set_ylim([0,200000000])"
   ]
  },
  {
   "cell_type": "code",
   "execution_count": 76,
   "metadata": {
    "colab": {
     "base_uri": "https://localhost:8080/",
     "height": 318
    },
    "colab_type": "code",
    "id": "qGU-t6A6TQku",
    "outputId": "21fa6e2a-a6df-417b-8052-038cf51b8b2c"
   },
   "outputs": [
    {
     "data": {
      "text/plain": [
       "<matplotlib.axes._subplots.AxesSubplot at 0x59489cf70>"
      ]
     },
     "execution_count": 76,
     "metadata": {},
     "output_type": "execute_result"
    },
    {
     "data": {
      "image/png": "[encoded data removed]",
      "text/plain": [
       "<Figure size 432x288 with 1 Axes>"
      ]
     },
     "metadata": {
      "needs_background": "light"
     },
     "output_type": "display_data"
    }
   ],
   "source": [
    "#Box plot grouped by Duration\n",
    "london_houses.boxplot(column = 'Price', by = 'Duration')"
   ]
  },
  {
   "cell_type": "code",
   "execution_count": 77,
   "metadata": {
    "colab": {
     "base_uri": "https://localhost:8080/",
     "height": 648
    },
    "colab_type": "code",
    "id": "aD4cBwLKTQkw",
    "outputId": "cc72b052-ebda-475e-bba7-100c0b195dc2"
   },
   "outputs": [
    {
     "data": {
      "text/plain": [
       "<matplotlib.axes._subplots.AxesSubplot at 0x14e9477c0>"
      ]
     },
     "execution_count": 77,
     "metadata": {},
     "output_type": "execute_result"
    },
    {
     "data": {
      "image/png": "[encoded data removed]",
      "text/plain": [
       "<Figure size 1152x576 with 1 Axes>"
      ]
     },
     "metadata": {
      "needs_background": "light"
     },
     "output_type": "display_data"
    }
   ],
   "source": [
    "#Bar plot of the no. and types of houses sold in each borough\n",
    "temp1 = pd.crosstab(london_houses['District'], london_houses['Property_Type'])\n",
    "temp1.plot(kind = 'bar', stacked = True, color =['red','blue','green','orange','grey'], grid = False, figsize = (16,8))"
   ]
  },
  {
   "cell_type": "code",
   "execution_count": 78,
   "metadata": {
    "colab": {
     "base_uri": "https://localhost:8080/",
     "height": 302
    },
    "colab_type": "code",
    "id": "bzJ9xbBSTQky",
    "outputId": "f830625d-0035-4883-a185-d118b43c1ac7"
   },
   "outputs": [
    {
     "data": {
      "text/plain": [
       "<matplotlib.axes._subplots.AxesSubplot at 0x14950cc10>"
      ]
     },
     "execution_count": 78,
     "metadata": {},
     "output_type": "execute_result"
    },
    {
     "data": {
      "image/png": "[encoded data removed]",
      "text/plain": [
       "<Figure size 432x288 with 1 Axes>"
      ]
     },
     "metadata": {
      "needs_background": "light"
     },
     "output_type": "display_data"
    }
   ],
   "source": [
    "#Bar plot of properties By tenure\n",
    "temp2 = pd.crosstab(london_houses['Duration'], london_houses['Old/New'])\n",
    "temp2.plot(kind='bar', stacked = True, color =['red','blue'], grid = False)"
   ]
  },
  {
   "cell_type": "code",
   "execution_count": 79,
   "metadata": {
    "colab": {
     "base_uri": "https://localhost:8080/",
     "height": 303
    },
    "colab_type": "code",
    "id": "aAgOKcYkTQk0",
    "outputId": "76a80cb5-f6d8-4e95-c289-170dd2201551"
   },
   "outputs": [
    {
     "data": {
      "text/plain": [
       "<matplotlib.axes._subplots.AxesSubplot at 0x150511340>"
      ]
     },
     "execution_count": 79,
     "metadata": {},
     "output_type": "execute_result"
    },
    {
     "data": {
      "image/png": "[encoded data removed]",
      "text/plain": [
       "<Figure size 432x288 with 1 Axes>"
      ]
     },
     "metadata": {
      "needs_background": "light"
     },
     "output_type": "display_data"
    }
   ],
   "source": [
    "#BAr plot of properties by their age (Old/New)\n",
    "temp3 = pd.crosstab(london_houses['Old/New'], london_houses['Property_Type'])\n",
    "temp3.plot(kind='bar', stacked=True, grid=False)"
   ]
  },
  {
   "cell_type": "code",
   "execution_count": 80,
   "metadata": {
    "colab": {
     "base_uri": "https://localhost:8080/",
     "height": 295
    },
    "colab_type": "code",
    "id": "t7IOoKo2TQk4",
    "outputId": "b1aebd04-a0d8-4fba-80f0-040846593535"
   },
   "outputs": [
    {
     "data": {
      "image/png": "[encoded data removed]",
      "text/plain": [
       "<Figure size 432x288 with 1 Axes>"
      ]
     },
     "metadata": {
      "needs_background": "light"
     },
     "output_type": "display_data"
    }
   ],
   "source": [
    "#Time series of prices over time\n",
    "london_houses.index = london_houses['Date_Sold']\n",
    "df = london_houses.loc[:,['Price']]\n",
    "ts = df['Price']\n",
    "plt.plot(ts, label='House Price')\n",
    "plt.title('Time series')\n",
    "plt.xlabel('Time(year-month)')\n",
    "plt.ylabel('House Price')\n",
    "plt.legend(loc = 'best')\n",
    "plt.show()"
   ]
  },
  {
   "cell_type": "code",
   "execution_count": 81,
   "metadata": {
    "colab": {
     "base_uri": "https://localhost:8080/",
     "height": 327
    },
    "colab_type": "code",
    "id": "r3HWNB5STQk6",
    "outputId": "ff206fdf-7df7-4695-c9f3-5646b77d258d"
   },
   "outputs": [
    {
     "data": {
      "text/plain": [
       "<matplotlib.axes._subplots.AxesSubplot at 0x147ec1400>"
      ]
     },
     "execution_count": 81,
     "metadata": {},
     "output_type": "execute_result"
    },
    {
     "data": {
      "image/png": "[encoded data removed]",
      "text/plain": [
       "<Figure size 432x288 with 1 Axes>"
      ]
     },
     "metadata": {
      "needs_background": "light"
     },
     "output_type": "display_data"
    }
   ],
   "source": [
    "#Bar Plot of prices over time (Year)\n",
    "london_houses.groupby('Year')['Price'].mean().plot.bar(title = 'London Housing Price 1995-2020')"
   ]
  },
  {
   "cell_type": "code",
   "execution_count": 82,
   "metadata": {
    "colab": {
     "base_uri": "https://localhost:8080/",
     "height": 420
    },
    "colab_type": "code",
    "id": "dT8RF-Z_TQk8",
    "outputId": "c9344b68-5a9d-488f-eebf-39339367eeef"
   },
   "outputs": [
    {
     "data": {
      "text/plain": [
       "<matplotlib.axes._subplots.AxesSubplot at 0x1467153a0>"
      ]
     },
     "execution_count": 82,
     "metadata": {},
     "output_type": "execute_result"
    },
    {
     "data": {
      "image/png": "[encoded data removed]",
      "text/plain": [
       "<Figure size 720x432 with 1 Axes>"
      ]
     },
     "metadata": {
      "needs_background": "light"
     },
     "output_type": "display_data"
    }
   ],
   "source": [
    "#Bar Plot of prices over time (Year/Months)\n",
    "london_houses.groupby(['Year','Month'])['Price'].mean().plot(title = 'London Housing Price 1995-2020', figsize=(10,6), grid='on')"
   ]
  },
  {
   "cell_type": "code",
   "execution_count": 83,
   "metadata": {
    "colab": {},
    "colab_type": "code",
    "id": "GZ_D2ofDgpbJ"
   },
   "outputs": [
    {
     "data": {
      "text/html": [
       "<div>\n",
       "<style scoped>\n",
       "    .dataframe tbody tr th:only-of-type {\n",
       "        vertical-align: middle;\n",
       "    }\n",
       "\n",
       "    .dataframe tbody tr th {\n",
       "        vertical-align: top;\n",
       "    }\n",
       "\n",
       "    .dataframe thead th {\n",
       "        text-align: right;\n",
       "    }\n",
       "</style>\n",
       "<table border=\"1\" class=\"dataframe\">\n",
       "  <thead>\n",
       "    <tr style=\"text-align: right;\">\n",
       "      <th></th>\n",
       "      <th>Year</th>\n",
       "      <th>Month</th>\n",
       "      <th>Property_Type_D</th>\n",
       "      <th>Property_Type_F</th>\n",
       "      <th>Property_Type_S</th>\n",
       "      <th>Property_Type_T</th>\n",
       "    </tr>\n",
       "    <tr>\n",
       "      <th>Date_Sold</th>\n",
       "      <th></th>\n",
       "      <th></th>\n",
       "      <th></th>\n",
       "      <th></th>\n",
       "      <th></th>\n",
       "      <th></th>\n",
       "    </tr>\n",
       "  </thead>\n",
       "  <tbody>\n",
       "    <tr>\n",
       "      <th>1995-05-19</th>\n",
       "      <td>1995</td>\n",
       "      <td>5</td>\n",
       "      <td>0</td>\n",
       "      <td>1</td>\n",
       "      <td>0</td>\n",
       "      <td>0</td>\n",
       "    </tr>\n",
       "    <tr>\n",
       "      <th>1995-03-01</th>\n",
       "      <td>1995</td>\n",
       "      <td>3</td>\n",
       "      <td>0</td>\n",
       "      <td>0</td>\n",
       "      <td>0</td>\n",
       "      <td>1</td>\n",
       "    </tr>\n",
       "  </tbody>\n",
       "</table>\n",
       "</div>"
      ],
      "text/plain": [
       "            Year  Month  Property_Type_D  Property_Type_F  Property_Type_S  \\\n",
       "Date_Sold                                                                    \n",
       "1995-05-19  1995      5                0                1                0   \n",
       "1995-03-01  1995      3                0                0                0   \n",
       "\n",
       "            Property_Type_T  \n",
       "Date_Sold                    \n",
       "1995-05-19                0  \n",
       "1995-03-01                1  "
      ]
     },
     "execution_count": 83,
     "metadata": {},
     "output_type": "execute_result"
    }
   ],
   "source": [
    "#Preperae testing and validation data for the models\n",
    "X = london_houses.drop(['Date_Sold','Price','ID', 'Duration', 'PPD','District','Old/New'], axis=1)\n",
    "y = np.log(london_houses.Price)\n",
    "X = pd.get_dummies(X) #encode categorical data\n",
    "X_train, X_test, y_train, y_test = train_test_split(X, y, test_size=0.2, random_state=0)\n",
    "X.head(2)"
   ]
  },
  {
   "cell_type": "code",
   "execution_count": null,
   "metadata": {},
   "outputs": [],
   "source": [
    "# !!!! NOTE : THE KNN MODELS TOOK APPROXIMATLY 10 HOURS TO FINISH (FROM K = 1 TO 101) !!!! EACH K TAKE ABOUT 5/8 MINUTES TO FINISH"
   ]
  },
  {
   "cell_type": "code",
   "execution_count": 48,
   "metadata": {},
   "outputs": [
    {
     "name": "stdout",
     "output_type": "stream",
     "text": [
      " Distance Weights K = 1 ---> MSE = 0.715592027782639\n",
      " Distance Weights K = 1 ---> R2 = 0.05417549987780046\n",
      " Uniform Weights K = 1 ---> MSE = 0.715592027782639\n",
      " Uniform Weights K = 1 ---> R2 = 0.05417549987780046\n",
      " Distance Weights K = 3 ---> MSE = 0.4956755756033232\n",
      " Distance Weights K = 3 ---> R2 = 0.3448472239545388\n",
      " Uniform Weights K = 3 ---> MSE = 0.4956755756033232\n",
      " Uniform Weights K = 3 ---> R2 = 0.3448472239545388\n",
      " Distance Weights K = 5 ---> MSE = 0.4509239300725807\n",
      " Distance Weights K = 5 ---> R2 = 0.40399713217098043\n",
      " Uniform Weights K = 5 ---> MSE = 0.4509239300725807\n",
      " Uniform Weights K = 5 ---> R2 = 0.40399713217098043\n",
      " Distance Weights K = 7 ---> MSE = 0.43415883128196847\n",
      " Distance Weights K = 7 ---> R2 = 0.4261561844905887\n",
      " Uniform Weights K = 7 ---> MSE = 0.43415910289572485\n",
      " Uniform Weights K = 7 ---> R2 = 0.42615582548862196\n",
      " Distance Weights K = 9 ---> MSE = 0.41982279247505094\n",
      " Distance Weights K = 9 ---> R2 = 0.4451046582184205\n",
      " Uniform Weights K = 9 ---> MSE = 0.4198226448216263\n",
      " Uniform Weights K = 9 ---> R2 = 0.44510485337742334\n",
      " Distance Weights K = 11 ---> MSE = 0.4104854052027092\n",
      " Distance Weights K = 11 ---> R2 = 0.4574462289828066\n",
      " Uniform Weights K = 11 ---> MSE = 0.4104853010404589\n",
      " Uniform Weights K = 11 ---> R2 = 0.4574463666579127\n",
      " Distance Weights K = 13 ---> MSE = 0.40562511426417036\n",
      " Distance Weights K = 13 ---> R2 = 0.46387025561937545\n",
      " Uniform Weights K = 13 ---> MSE = 0.40562506083789596\n",
      " Uniform Weights K = 13 ---> R2 = 0.46387032623486213\n",
      " Distance Weights K = 15 ---> MSE = 0.4034809649084312\n",
      " Distance Weights K = 15 ---> R2 = 0.4667042572765254\n",
      " Uniform Weights K = 15 ---> MSE = 0.40348090127877667\n",
      " Uniform Weights K = 15 ---> R2 = 0.4667043413781977\n",
      " Distance Weights K = 17 ---> MSE = 0.39976515863176126\n",
      " Distance Weights K = 17 ---> R2 = 0.4716155761254406\n",
      " Uniform Weights K = 17 ---> MSE = 0.3997650119760665\n",
      " Uniform Weights K = 17 ---> R2 = 0.47161576996570675\n",
      " Distance Weights K = 19 ---> MSE = 0.3974514710547004\n",
      " Distance Weights K = 19 ---> R2 = 0.4746736627321254\n",
      " Uniform Weights K = 19 ---> MSE = 0.3974513180177242\n",
      " Uniform Weights K = 19 ---> R2 = 0.4746738650067678\n",
      " Distance Weights K = 21 ---> MSE = 0.39406554283295686\n",
      " Distance Weights K = 21 ---> R2 = 0.47914896953187214\n",
      " Uniform Weights K = 21 ---> MSE = 0.3940657332916379\n",
      " Uniform Weights K = 21 ---> R2 = 0.4791487177955758\n",
      " Distance Weights K = 23 ---> MSE = 0.39261443847526506\n",
      " Distance Weights K = 23 ---> R2 = 0.4810669479336046\n",
      " Uniform Weights K = 23 ---> MSE = 0.3926145418997711\n",
      " Uniform Weights K = 23 ---> R2 = 0.4810668112336025\n",
      " Distance Weights K = 25 ---> MSE = 0.391539484414136\n",
      " Distance Weights K = 25 ---> R2 = 0.48248775454973214\n",
      " Uniform Weights K = 25 ---> MSE = 0.39153943822950016\n",
      " Uniform Weights K = 25 ---> R2 = 0.4824878155936768\n",
      " Distance Weights K = 27 ---> MSE = 0.3904910299045662\n",
      " Distance Weights K = 27 ---> R2 = 0.48387353572659564\n",
      " Uniform Weights K = 27 ---> MSE = 0.3904910054322537\n",
      " Uniform Weights K = 27 ---> R2 = 0.4838735680725579\n",
      " Distance Weights K = 29 ---> MSE = 0.3896858628497938\n",
      " Distance Weights K = 29 ---> R2 = 0.48493775485918533\n",
      " Uniform Weights K = 29 ---> MSE = 0.38968582812906855\n",
      " Uniform Weights K = 29 ---> R2 = 0.4849378007508546\n",
      " Distance Weights K = 31 ---> MSE = 0.3885445893341703\n",
      " Distance Weights K = 31 ---> R2 = 0.4864462183558541\n",
      " Uniform Weights K = 31 ---> MSE = 0.3885445083587643\n",
      " Uniform Weights K = 31 ---> R2 = 0.48644632538404886\n",
      " Distance Weights K = 33 ---> MSE = 0.3875672880680208\n",
      " Distance Weights K = 33 ---> R2 = 0.487737953654232\n",
      " Uniform Weights K = 33 ---> MSE = 0.3875672236664123\n",
      " Uniform Weights K = 33 ---> R2 = 0.48773803877622446\n",
      " Distance Weights K = 35 ---> MSE = 0.3873292779076805\n",
      " Distance Weights K = 35 ---> R2 = 0.4880525405028662\n",
      " Uniform Weights K = 35 ---> MSE = 0.38733161476374417\n",
      " Uniform Weights K = 35 ---> R2 = 0.48804945179361225\n",
      " Distance Weights K = 37 ---> MSE = 0.3871646780972463\n",
      " Distance Weights K = 37 ---> R2 = 0.48827009817173306\n",
      " Uniform Weights K = 37 ---> MSE = 0.38716509535061333\n",
      " Uniform Weights K = 37 ---> R2 = 0.4882695466724961\n",
      " Distance Weights K = 39 ---> MSE = 0.3863082663457835\n",
      " Distance Weights K = 39 ---> R2 = 0.48940204931886366\n",
      " Uniform Weights K = 39 ---> MSE = 0.3863091320164489\n",
      " Uniform Weights K = 39 ---> R2 = 0.4894009051298669\n",
      " Distance Weights K = 41 ---> MSE = 0.3860141703133028\n",
      " Distance Weights K = 41 ---> R2 = 0.4897907669430257\n",
      " Uniform Weights K = 41 ---> MSE = 0.3860137025991181\n",
      " Uniform Weights K = 41 ---> R2 = 0.4897913851381953\n",
      " Distance Weights K = 43 ---> MSE = 0.38597886065222914\n",
      " Distance Weights K = 43 ---> R2 = 0.48983743703050275\n",
      " Uniform Weights K = 43 ---> MSE = 0.38597837530073226\n",
      " Uniform Weights K = 43 ---> R2 = 0.48983807853756134\n",
      " Distance Weights K = 45 ---> MSE = 0.38567671016298205\n",
      " Distance Weights K = 45 ---> R2 = 0.49023680052863916\n",
      " Uniform Weights K = 45 ---> MSE = 0.3856745045619313\n",
      " Uniform Weights K = 45 ---> R2 = 0.49023971575327874\n",
      " Distance Weights K = 47 ---> MSE = 0.38558452391916076\n",
      " Distance Weights K = 47 ---> R2 = 0.4903586465031543\n",
      " Uniform Weights K = 47 ---> MSE = 0.38558195261768236\n",
      " Uniform Weights K = 47 ---> R2 = 0.4903620450876005\n",
      " Distance Weights K = 49 ---> MSE = 0.38488666330566795\n",
      " Distance Weights K = 49 ---> R2 = 0.49128103473595375\n",
      " Uniform Weights K = 49 ---> MSE = 0.38488271828266934\n",
      " Uniform Weights K = 49 ---> R2 = 0.49128624901903784\n",
      " Distance Weights K = 51 ---> MSE = 0.3844133478106057\n",
      " Distance Weights K = 51 ---> R2 = 0.4919066333649722\n",
      " Uniform Weights K = 51 ---> MSE = 0.3844100361367064\n",
      " Uniform Weights K = 51 ---> R2 = 0.4919110105270824\n",
      " Distance Weights K = 53 ---> MSE = 0.38413003106765886\n",
      " Distance Weights K = 53 ---> R2 = 0.4922811036027197\n",
      " Uniform Weights K = 53 ---> MSE = 0.3841260649494716\n",
      " Uniform Weights K = 53 ---> R2 = 0.4922863457680964\n",
      " Distance Weights K = 55 ---> MSE = 0.3837869969453248\n",
      " Distance Weights K = 55 ---> R2 = 0.4927345045136924\n",
      " Uniform Weights K = 55 ---> MSE = 0.38378800803480506\n",
      " Uniform Weights K = 55 ---> R2 = 0.49273316811925927\n",
      " Distance Weights K = 57 ---> MSE = 0.38359533923327377\n",
      " Distance Weights K = 57 ---> R2 = 0.49298782561378474\n",
      " Uniform Weights K = 57 ---> MSE = 0.3835925038839606\n",
      " Uniform Weights K = 57 ---> R2 = 0.49299157320003884\n",
      " Distance Weights K = 59 ---> MSE = 0.3834303006515085\n",
      " Distance Weights K = 59 ---> R2 = 0.49320596322297905\n",
      " Uniform Weights K = 59 ---> MSE = 0.3834247205120826\n",
      " Uniform Weights K = 59 ---> R2 = 0.49321333870003603\n",
      " Distance Weights K = 61 ---> MSE = 0.38310406997266655\n",
      " Distance Weights K = 61 ---> R2 = 0.4936371544000193\n",
      " Uniform Weights K = 61 ---> MSE = 0.38310231107216314\n",
      " Uniform Weights K = 61 ---> R2 = 0.49363947920399254\n",
      " Distance Weights K = 63 ---> MSE = 0.3828970530010955\n",
      " Distance Weights K = 63 ---> R2 = 0.4939107764025725\n",
      " Uniform Weights K = 63 ---> MSE = 0.38289349613306867\n",
      " Uniform Weights K = 63 ---> R2 = 0.49391547764684696\n",
      " Distance Weights K = 65 ---> MSE = 0.38256181781827364\n",
      " Distance Weights K = 65 ---> R2 = 0.49435386916619417\n",
      " Uniform Weights K = 65 ---> MSE = 0.38255911199020426\n",
      " Uniform Weights K = 65 ---> R2 = 0.49435744555942074\n",
      " Distance Weights K = 67 ---> MSE = 0.3823973547829506\n",
      " Distance Weights K = 67 ---> R2 = 0.49457124605432834\n",
      " Uniform Weights K = 67 ---> MSE = 0.38239495349888214\n",
      " Uniform Weights K = 67 ---> R2 = 0.4945744199204637\n",
      " Distance Weights K = 69 ---> MSE = 0.3822491416111009\n",
      " Distance Weights K = 69 ---> R2 = 0.49476714489575435\n",
      " Uniform Weights K = 69 ---> MSE = 0.3822516147144081\n",
      " Uniform Weights K = 69 ---> R2 = 0.4947638761034697\n",
      " Distance Weights K = 71 ---> MSE = 0.3820754107098863\n",
      " Distance Weights K = 71 ---> R2 = 0.4949967714656677\n",
      " Uniform Weights K = 71 ---> MSE = 0.38207150561371783\n",
      " Uniform Weights K = 71 ---> R2 = 0.49500193297598094\n",
      " Distance Weights K = 73 ---> MSE = 0.3818663580292347\n",
      " Distance Weights K = 73 ---> R2 = 0.495273084140348\n",
      " Uniform Weights K = 73 ---> MSE = 0.38186289489442865\n",
      " Uniform Weights K = 73 ---> R2 = 0.49527766149395114\n",
      " Distance Weights K = 75 ---> MSE = 0.3817313987162916\n",
      " Distance Weights K = 75 ---> R2 = 0.49545146486532166\n",
      " Uniform Weights K = 75 ---> MSE = 0.38172242391862127\n",
      " Uniform Weights K = 75 ---> R2 = 0.4954633271879728\n"
     ]
    },
    {
     "name": "stdout",
     "output_type": "stream",
     "text": [
      " Distance Weights K = 77 ---> MSE = 0.3817142601035593\n",
      " Distance Weights K = 77 ---> R2 = 0.49547411760485893\n",
      " Uniform Weights K = 77 ---> MSE = 0.3817062027143758\n",
      " Uniform Weights K = 77 ---> R2 = 0.4954847673547177\n",
      " Distance Weights K = 79 ---> MSE = 0.3815828103733363\n",
      " Distance Weights K = 79 ---> R2 = 0.49564785958430013\n",
      " Uniform Weights K = 79 ---> MSE = 0.3815728500496646\n",
      " Uniform Weights K = 79 ---> R2 = 0.49566102451318717\n",
      " Distance Weights K = 81 ---> MSE = 0.3814950295373975\n",
      " Distance Weights K = 81 ---> R2 = 0.4957638827679701\n",
      " Uniform Weights K = 81 ---> MSE = 0.38148567474423556\n",
      " Uniform Weights K = 81 ---> R2 = 0.4957762473447438\n",
      " Distance Weights K = 83 ---> MSE = 0.3813268443706128\n",
      " Distance Weights K = 83 ---> R2 = 0.4959861793351845\n",
      " Uniform Weights K = 83 ---> MSE = 0.38131841839923514\n",
      " Uniform Weights K = 83 ---> R2 = 0.4959973162537874\n",
      " Distance Weights K = 85 ---> MSE = 0.3811478977494825\n",
      " Distance Weights K = 85 ---> R2 = 0.49622269971538435\n",
      " Uniform Weights K = 85 ---> MSE = 0.38114690632161263\n",
      " Uniform Weights K = 85 ---> R2 = 0.4962240101223384\n",
      " Distance Weights K = 87 ---> MSE = 0.38103645379941986\n",
      " Distance Weights K = 87 ---> R2 = 0.49636999931385284\n",
      " Uniform Weights K = 87 ---> MSE = 0.38102677671819823\n",
      " Uniform Weights K = 87 ---> R2 = 0.4963827898706977\n",
      " Distance Weights K = 89 ---> MSE = 0.38088294118481136\n",
      " Distance Weights K = 89 ---> R2 = 0.4965729026251494\n",
      " Uniform Weights K = 89 ---> MSE = 0.3808723542497272\n",
      " Uniform Weights K = 89 ---> R2 = 0.49658689576956005\n",
      " Distance Weights K = 91 ---> MSE = 0.3808275440214078\n",
      " Distance Weights K = 91 ---> R2 = 0.49664612310881906\n",
      " Uniform Weights K = 91 ---> MSE = 0.3808216721132622\n",
      " Uniform Weights K = 91 ---> R2 = 0.49665388422740475\n",
      " Distance Weights K = 93 ---> MSE = 0.3807353634270987\n",
      " Distance Weights K = 93 ---> R2 = 0.49676796161616454\n",
      " Uniform Weights K = 93 ---> MSE = 0.3807212564346235\n",
      " Uniform Weights K = 93 ---> R2 = 0.4967866073508682\n",
      " Distance Weights K = 95 ---> MSE = 0.3806365755113462\n",
      " Distance Weights K = 95 ---> R2 = 0.4968985332651029\n",
      " Uniform Weights K = 95 ---> MSE = 0.3806165547740416\n",
      " Uniform Weights K = 95 ---> R2 = 0.4969249954154875\n",
      " Distance Weights K = 97 ---> MSE = 0.38053451108004466\n",
      " Distance Weights K = 97 ---> R2 = 0.49703343560605706\n",
      " Uniform Weights K = 97 ---> MSE = 0.3805176026663499\n",
      " Uniform Weights K = 97 ---> R2 = 0.4970557840829962\n",
      " Distance Weights K = 99 ---> MSE = 0.38039804771576846\n",
      " Distance Weights K = 99 ---> R2 = 0.49721380429141193\n",
      " Uniform Weights K = 99 ---> MSE = 0.38038104290499025\n",
      " Uniform Weights K = 99 ---> R2 = 0.49723628017994825\n",
      " Distance Weights K = 101 ---> MSE = 0.38027320146816357\n",
      " Distance Weights K = 101 ---> R2 = 0.497378818203178\n",
      " Uniform Weights K = 101 ---> MSE = 0.38024844259407947\n",
      " Uniform Weights K = 101 ---> R2 = 0.4974115429245206\n"
     ]
    }
   ],
   "source": [
    "#************************************** KNN *******************************************\n",
    "mse_uniform = {}\n",
    "mse_distance = {}\n",
    "mse_distance_list = []\n",
    "mse_uniform_list = []\n",
    "r2_distance = {}\n",
    "r2_distance_list = []\n",
    "r2_uniform = {}\n",
    "r2_uniform_list = []\n",
    "for k in range(1,102,2):\n",
    "    #KNN model using K = k and distance based weights\n",
    "    knn_distance = KNeighborsRegressor(n_neighbors=k, weights='distance')\n",
    "    #Evaluate model\n",
    "    knn_distance.fit(X_train, y_train)\n",
    "    #KNN model using K = k and uniform weights\n",
    "    knn_uniform = KNeighborsRegressor(n_neighbors=k, weights='uniform')\n",
    "    #Evaluate model\n",
    "    knn_uniform.fit(X_train, y_train)\n",
    "    #Get prediction on validation data\n",
    "    Y_pred_knn_distance = knn_distance.predict(X_test)\n",
    "    Y_pred_knn_uniform = knn_uniform.predict(X_test)\n",
    "    #Calculate MSE and R2\n",
    "    mse_distance[k] = mean_squared_error(y_test, Y_pred_knn_distance)\n",
    "    mse_distance_list.append(mean_squared_error(y_test, Y_pred_knn_distance))\n",
    "    r2_distance[k] =  r2_score(y_test, Y_pred_knn_distance)\n",
    "    r2_distance_list.append(r2_score(y_test, Y_pred_knn_distance))\n",
    "    \n",
    "    mse_uniform[k] = mean_squared_error(y_test, Y_pred_knn_uniform)\n",
    "    mse_uniform_list.append(mean_squared_error(y_test, Y_pred_knn_uniform))\n",
    "    r2_uniform[k] =  r2_score(y_test, Y_pred_knn_uniform)\n",
    "    r2_uniform_list.append(r2_score(y_test, Y_pred_knn_uniform))\n",
    "    print(' ********** K = {} **********'.format(k))\n",
    "    print(' Distance Weights ---> MSE = {}'.format(k,mse_distance[k]))\n",
    "    print(' Distance Weights ---> R2 = {}'.format(k,r2_distance[k]))\n",
    "    print(' Uniform Weights ---> MSE = {}'.format(k,mse_uniform[k]))\n",
    "    print(' Uniform Weights ---> R2 = {}'.format(k,r2_uniform[k]))"
   ]
  },
  {
   "cell_type": "code",
   "execution_count": 51,
   "metadata": {},
   "outputs": [
    {
     "data": {
      "text/plain": [
       "<matplotlib.legend.Legend at 0x147d138e0>"
      ]
     },
     "execution_count": 51,
     "metadata": {},
     "output_type": "execute_result"
    },
    {
     "data": {
      "image/png": "[encoded data removed]",
      "text/plain": [
       "<Figure size 432x288 with 1 Axes>"
      ]
     },
     "metadata": {
      "needs_background": "light"
     },
     "output_type": "display_data"
    }
   ],
   "source": [
    "#Plot MSE and R2 Values\n",
    "k_range = range(1,102,2)\n",
    "plt.plot(k_range, mse_distance_list)\n",
    "plt.plot(k_range, mse_uniform_list)\n",
    "plt.plot(k_range, r2_distance_list)\n",
    "plt.plot(k_range, r2_uniform_list)\n",
    "plt.xlabel('Value of K for KNN')\n",
    "plt.ylabel('Testing Accuracy')\n",
    "plt.grid('on')\n",
    "plt.title('Accuracy for different K values')\n",
    "plt.legend(['MSE Dist', 'MSE Uni', 'R2_Dist', 'R2_Uni'], loc='best')"
   ]
  },
  {
   "cell_type": "code",
   "execution_count": null,
   "metadata": {},
   "outputs": [],
   "source": [
    "#**************** LINEAR REGRESSION ***********************"
   ]
  },
  {
   "cell_type": "code",
   "execution_count": 84,
   "metadata": {},
   "outputs": [],
   "source": [
    "#Create Linear regression model and train it using training data\n",
    "lr = linear_model.LinearRegression()\n",
    "model = lr.fit(X_train, y_train)\n",
    "#Get prediction\n",
    "predictions = model.predict(X_test)"
   ]
  },
  {
   "cell_type": "code",
   "execution_count": 85,
   "metadata": {},
   "outputs": [
    {
     "name": "stdout",
     "output_type": "stream",
     "text": [
      "R^2 is: \n",
      " 0.47527315123458536\n",
      "MSE is: \n",
      " 0.39699790996270895\n"
     ]
    }
   ],
   "source": [
    "#Calculate R^2 value and MSE on validation data\n",
    "print (\"R^2 is: \\n\", model.score(X_test, y_test))\n",
    "print ('MSE is: \\n', mean_squared_error(y_test, predictions))"
   ]
  },
  {
   "cell_type": "code",
   "execution_count": 86,
   "metadata": {},
   "outputs": [
    {
     "data": {
      "image/png": "[encoded data removed]",
      "text/plain": [
       "<Figure size 1152x720 with 1 Axes>"
      ]
     },
     "metadata": {
      "needs_background": "light"
     },
     "output_type": "display_data"
    }
   ],
   "source": [
    "#Plot first 20 predicted prices vs actual prices\n",
    "df = pd.DataFrame({'Actual': y_test, 'Predicted': predictions})\n",
    "df1 = df.head(20)\n",
    "df1.plot(kind='bar',figsize=(16,10))\n",
    "plt.grid(color='gray')\n",
    "plt.show()"
   ]
  },
  {
   "cell_type": "code",
   "execution_count": 87,
   "metadata": {},
   "outputs": [],
   "source": [
    "#**************** LINEAR REGRESSION With more columns ***********************"
   ]
  },
  {
   "cell_type": "code",
   "execution_count": 88,
   "metadata": {
    "colab": {},
    "colab_type": "code",
    "id": "I6SLv_TpB4nf"
   },
   "outputs": [],
   "source": [
    "X = london_houses.drop(['Date_Sold','Price','ID', 'Duration', 'PPD'], axis=1)\n",
    "y = np.log(london_houses.Price)\n",
    "X = pd.get_dummies(X)\n",
    "X_train, X_test, y_train, y_test = train_test_split(X, y, test_size=0.2, random_state=0)"
   ]
  },
  {
   "cell_type": "code",
   "execution_count": 89,
   "metadata": {
    "colab": {},
    "colab_type": "code",
    "id": "GqNO1dieTQlH"
   },
   "outputs": [],
   "source": [
    "lr = linear_model.LinearRegression()\n",
    "model = lr.fit(X_train, y_train)"
   ]
  },
  {
   "cell_type": "code",
   "execution_count": 90,
   "metadata": {
    "colab": {
     "base_uri": "https://localhost:8080/",
     "height": 52
    },
    "colab_type": "code",
    "id": "SoDujsXwTQlJ",
    "outputId": "3b4ccd3b-c480-499f-dccb-63cf6edcd7bb"
   },
   "outputs": [
    {
     "name": "stdout",
     "output_type": "stream",
     "text": [
      "R^2 is: \n",
      " 0.665573776592231\n"
     ]
    }
   ],
   "source": [
    "print (\"R^2 is: \\n\", model.score(X_test, y_test))\n",
    "predictions = model.predict(X_test)"
   ]
  },
  {
   "cell_type": "code",
   "execution_count": 91,
   "metadata": {
    "colab": {
     "base_uri": "https://localhost:8080/",
     "height": 52
    },
    "colab_type": "code",
    "id": "OGH6gmRITQlL",
    "outputId": "92e00e65-0f93-4124-9332-cdf26c824550"
   },
   "outputs": [
    {
     "name": "stdout",
     "output_type": "stream",
     "text": [
      "MSE is: \n",
      " 0.2530202371805089\n"
     ]
    }
   ],
   "source": [
    "print ('MSE is: \\n', mean_squared_error(y_test, predictions))"
   ]
  },
  {
   "cell_type": "code",
   "execution_count": 92,
   "metadata": {
    "colab": {
     "base_uri": "https://localhost:8080/",
     "height": 416
    },
    "colab_type": "code",
    "id": "1EbryIflTQlO",
    "outputId": "554bed96-dcf2-4495-e892-106501ddc028"
   },
   "outputs": [],
   "source": [
    "df = pd.DataFrame({'Actual': y_test, 'Predicted': predictions})\n"
   ]
  },
  {
   "cell_type": "code",
   "execution_count": 35,
   "metadata": {
    "colab": {
     "base_uri": "https://localhost:8080/",
     "height": 632
    },
    "colab_type": "code",
    "id": "oFvHZ3OLTQlQ",
    "outputId": "c2c9b2ec-9213-4e66-dd98-78577f96ab8f",
    "scrolled": true
   },
   "outputs": [
    {
     "data": {
      "image/png": "[encoded data removed]",
      "text/plain": [
       "<Figure size 1152x720 with 1 Axes>"
      ]
     },
     "metadata": {
      "needs_background": "light"
     },
     "output_type": "display_data"
    }
   ],
   "source": [
    "#Plot first 20 predicted prices\n",
    "df1 = df.head(20)\n",
    "df1.plot(kind='bar',figsize=(16,10))\n",
    "plt.grid(color='gray')\n",
    "plt.show()"
   ]
  },
  {
   "cell_type": "code",
   "execution_count": null,
   "metadata": {},
   "outputs": [],
   "source": []
  }
 ],
 "metadata": {
  "colab": {
   "machine_shape": "hm",
   "name": "DataAn.ipynb",
   "provenance": []
  },
  "kernelspec": {
   "display_name": "Python 3",
   "language": "python",
   "name": "python3"
  },
  "language_info": {
   "codemirror_mode": {
    "name": "ipython",
    "version": 3
   },
   "file_extension": ".py",
   "mimetype": "text/x-python",
   "name": "python",
   "nbconvert_exporter": "python",
   "pygments_lexer": "ipython3",
   "version": "3.8.2"
  }
 },
 "nbformat": 4,
 "nbformat_minor": 1
}
